{
 "cells": [
  {
   "cell_type": "markdown",
   "id": "d0d4de47",
   "metadata": {},
   "source": [
    "# Perceptron Implementation for Cancer Classification Report"
   ]
  },
  {
   "cell_type": "markdown",
   "id": "b24c4fed",
   "metadata": {},
   "source": [
    "## 1. Data Loading and Preprocessing"
   ]
  },
  {
   "cell_type": "code",
   "execution_count": 1,
   "id": "f07ba334",
   "metadata": {},
   "outputs": [],
   "source": [
    "import pandas as pd\n",
    "from sklearn.model_selection import train_test_split\n",
    "from sklearn.preprocessing import StandardScaler\n",
    "import numpy as np\n",
    "import matplotlib.pyplot as plt\n"
   ]
  },
  {
   "cell_type": "markdown",
   "id": "21999867",
   "metadata": {},
   "source": [
    "### 1.1 Data Loading\n",
    "We start by loading the dataset using pandas and inspect a sample of 10 records.\n"
   ]
  },
  {
   "cell_type": "code",
   "execution_count": 2,
   "id": "d668f27e",
   "metadata": {
    "scrolled": false
   },
   "outputs": [
    {
     "name": "stdout",
     "output_type": "stream",
     "text": [
      "    feature_1   feature_2    feature_3  feature_4   feature_5  feature_6  \\\n",
      "0  206.115242  -32.279256 -1452.954573  -1.747738  137.824509  14.058774   \n",
      "1  372.027760  -25.477827 -1518.931187  -1.855049  223.125661   7.401536   \n",
      "2  153.019599  -38.152613  2036.319880  -1.380383  394.355359 -27.784041   \n",
      "3  281.303306  104.637616 -1847.145726  -0.936068   68.511473  -9.322023   \n",
      "4  100.423202  -39.101964  -601.026667  -1.339580   97.804870  10.473588   \n",
      "5   -9.208564  -88.581030  -124.489827   0.709207  181.923238   6.066601   \n",
      "6  277.378926  -29.977378 -3175.420924  -1.229006    7.815279  32.426973   \n",
      "7  154.153614  -66.164673 -1095.163743  -2.735912  -93.729569  34.725685   \n",
      "8  -76.343100   20.790920   287.035084   1.275995  -97.496248  -4.344624   \n",
      "9   90.084791   47.870423  -762.454270  -1.378897    6.789393  -0.171903   \n",
      "\n",
      "   feature_7  cancer_form  \n",
      "0 -10.288917            1  \n",
      "1  10.971335            1  \n",
      "2   1.717984            1  \n",
      "3   6.757695            1  \n",
      "4 -10.982093            1  \n",
      "5  -7.110218            1  \n",
      "6   1.307104            1  \n",
      "7  -2.172506            1  \n",
      "8  12.246099            0  \n",
      "9 -12.285294            0  \n"
     ]
    },
    {
     "data": {
      "text/html": [
       "<div>\n",
       "<style scoped>\n",
       "    .dataframe tbody tr th:only-of-type {\n",
       "        vertical-align: middle;\n",
       "    }\n",
       "\n",
       "    .dataframe tbody tr th {\n",
       "        vertical-align: top;\n",
       "    }\n",
       "\n",
       "    .dataframe thead th {\n",
       "        text-align: right;\n",
       "    }\n",
       "</style>\n",
       "<table border=\"1\" class=\"dataframe\">\n",
       "  <thead>\n",
       "    <tr style=\"text-align: right;\">\n",
       "      <th></th>\n",
       "      <th>feature_1</th>\n",
       "      <th>feature_2</th>\n",
       "      <th>feature_3</th>\n",
       "      <th>feature_4</th>\n",
       "      <th>feature_5</th>\n",
       "      <th>feature_6</th>\n",
       "      <th>feature_7</th>\n",
       "      <th>cancer_form</th>\n",
       "    </tr>\n",
       "  </thead>\n",
       "  <tbody>\n",
       "    <tr>\n",
       "      <th>0</th>\n",
       "      <td>206.115242</td>\n",
       "      <td>-32.279256</td>\n",
       "      <td>-1452.954573</td>\n",
       "      <td>-1.747738</td>\n",
       "      <td>137.824509</td>\n",
       "      <td>14.058774</td>\n",
       "      <td>-10.288917</td>\n",
       "      <td>1</td>\n",
       "    </tr>\n",
       "    <tr>\n",
       "      <th>1</th>\n",
       "      <td>372.027760</td>\n",
       "      <td>-25.477827</td>\n",
       "      <td>-1518.931187</td>\n",
       "      <td>-1.855049</td>\n",
       "      <td>223.125661</td>\n",
       "      <td>7.401536</td>\n",
       "      <td>10.971335</td>\n",
       "      <td>1</td>\n",
       "    </tr>\n",
       "    <tr>\n",
       "      <th>2</th>\n",
       "      <td>153.019599</td>\n",
       "      <td>-38.152613</td>\n",
       "      <td>2036.319880</td>\n",
       "      <td>-1.380383</td>\n",
       "      <td>394.355359</td>\n",
       "      <td>-27.784041</td>\n",
       "      <td>1.717984</td>\n",
       "      <td>1</td>\n",
       "    </tr>\n",
       "    <tr>\n",
       "      <th>3</th>\n",
       "      <td>281.303306</td>\n",
       "      <td>104.637616</td>\n",
       "      <td>-1847.145726</td>\n",
       "      <td>-0.936068</td>\n",
       "      <td>68.511473</td>\n",
       "      <td>-9.322023</td>\n",
       "      <td>6.757695</td>\n",
       "      <td>1</td>\n",
       "    </tr>\n",
       "    <tr>\n",
       "      <th>4</th>\n",
       "      <td>100.423202</td>\n",
       "      <td>-39.101964</td>\n",
       "      <td>-601.026667</td>\n",
       "      <td>-1.339580</td>\n",
       "      <td>97.804870</td>\n",
       "      <td>10.473588</td>\n",
       "      <td>-10.982093</td>\n",
       "      <td>1</td>\n",
       "    </tr>\n",
       "    <tr>\n",
       "      <th>...</th>\n",
       "      <td>...</td>\n",
       "      <td>...</td>\n",
       "      <td>...</td>\n",
       "      <td>...</td>\n",
       "      <td>...</td>\n",
       "      <td>...</td>\n",
       "      <td>...</td>\n",
       "      <td>...</td>\n",
       "    </tr>\n",
       "    <tr>\n",
       "      <th>9995</th>\n",
       "      <td>115.953662</td>\n",
       "      <td>87.939420</td>\n",
       "      <td>-1778.023697</td>\n",
       "      <td>0.713350</td>\n",
       "      <td>-282.270218</td>\n",
       "      <td>9.451011</td>\n",
       "      <td>31.390854</td>\n",
       "      <td>0</td>\n",
       "    </tr>\n",
       "    <tr>\n",
       "      <th>9996</th>\n",
       "      <td>35.785956</td>\n",
       "      <td>11.034683</td>\n",
       "      <td>-1232.313944</td>\n",
       "      <td>1.298911</td>\n",
       "      <td>-17.431758</td>\n",
       "      <td>4.119594</td>\n",
       "      <td>8.148060</td>\n",
       "      <td>0</td>\n",
       "    </tr>\n",
       "    <tr>\n",
       "      <th>9997</th>\n",
       "      <td>201.248524</td>\n",
       "      <td>63.923851</td>\n",
       "      <td>-2600.911112</td>\n",
       "      <td>0.082847</td>\n",
       "      <td>-127.289913</td>\n",
       "      <td>13.274309</td>\n",
       "      <td>16.368725</td>\n",
       "      <td>0</td>\n",
       "    </tr>\n",
       "    <tr>\n",
       "      <th>9998</th>\n",
       "      <td>-291.370839</td>\n",
       "      <td>-121.351518</td>\n",
       "      <td>-935.509916</td>\n",
       "      <td>1.326351</td>\n",
       "      <td>-148.200504</td>\n",
       "      <td>38.068770</td>\n",
       "      <td>-29.510733</td>\n",
       "      <td>0</td>\n",
       "    </tr>\n",
       "    <tr>\n",
       "      <th>9999</th>\n",
       "      <td>211.660833</td>\n",
       "      <td>-29.510672</td>\n",
       "      <td>-2437.292127</td>\n",
       "      <td>-1.548749</td>\n",
       "      <td>-58.227211</td>\n",
       "      <td>31.787987</td>\n",
       "      <td>0.444736</td>\n",
       "      <td>1</td>\n",
       "    </tr>\n",
       "  </tbody>\n",
       "</table>\n",
       "<p>10000 rows × 8 columns</p>\n",
       "</div>"
      ],
      "text/plain": [
       "       feature_1   feature_2    feature_3  feature_4   feature_5  feature_6  \\\n",
       "0     206.115242  -32.279256 -1452.954573  -1.747738  137.824509  14.058774   \n",
       "1     372.027760  -25.477827 -1518.931187  -1.855049  223.125661   7.401536   \n",
       "2     153.019599  -38.152613  2036.319880  -1.380383  394.355359 -27.784041   \n",
       "3     281.303306  104.637616 -1847.145726  -0.936068   68.511473  -9.322023   \n",
       "4     100.423202  -39.101964  -601.026667  -1.339580   97.804870  10.473588   \n",
       "...          ...         ...          ...        ...         ...        ...   \n",
       "9995  115.953662   87.939420 -1778.023697   0.713350 -282.270218   9.451011   \n",
       "9996   35.785956   11.034683 -1232.313944   1.298911  -17.431758   4.119594   \n",
       "9997  201.248524   63.923851 -2600.911112   0.082847 -127.289913  13.274309   \n",
       "9998 -291.370839 -121.351518  -935.509916   1.326351 -148.200504  38.068770   \n",
       "9999  211.660833  -29.510672 -2437.292127  -1.548749  -58.227211  31.787987   \n",
       "\n",
       "      feature_7  cancer_form  \n",
       "0    -10.288917            1  \n",
       "1     10.971335            1  \n",
       "2      1.717984            1  \n",
       "3      6.757695            1  \n",
       "4    -10.982093            1  \n",
       "...         ...          ...  \n",
       "9995  31.390854            0  \n",
       "9996   8.148060            0  \n",
       "9997  16.368725            0  \n",
       "9998 -29.510733            0  \n",
       "9999   0.444736            1  \n",
       "\n",
       "[10000 rows x 8 columns]"
      ]
     },
     "execution_count": 2,
     "metadata": {},
     "output_type": "execute_result"
    }
   ],
   "source": [
    "data = pd.read_csv(\"cancer.csv\")\n",
    "print(data.head(10))\n",
    "data.shape\n",
    "data"
   ]
  },
  {
   "cell_type": "markdown",
   "id": "9f40e67e",
   "metadata": {},
   "source": [
    "as we can see have p= 7 feature(columns)s, and our target variable y= cancer_form, and we have 10000 samples (rows)"
   ]
  },
  {
   "cell_type": "markdown",
   "id": "0e2c549f",
   "metadata": {},
   "source": [
    "### 1.2 Data Splitting\n",
    "We split the dataset into training, validation, and testing sets to perform the following tasks:\n",
    "\n",
    "1. **Training Set:** The data that the model learns from.\n",
    "\n",
    "2. **Validation Set:** The data that fine-tunes the model and optimize the hyperparameters.\n",
    "\n",
    "3. **Testing Set:** The data used to evaluate the final model's performance.answers the question of \"how well our model is at generalizing?\"\n",
    "\n"
   ]
  },
  {
   "cell_type": "code",
   "execution_count": 3,
   "id": "d20d59ef",
   "metadata": {},
   "outputs": [
    {
     "name": "stdout",
     "output_type": "stream",
     "text": [
      "The training set shape: (7500, 7) (7500,)\n",
      "The testing  set shape: (2500, 7) (2500,)\n"
     ]
    }
   ],
   "source": [
    "# Extract features and target variable\n",
    "# for X we # select all rows and columns except the last one which contains the target variable\n",
    "# for y we only select the target variable\n",
    "X, y = data.iloc[:, :-1].values, data.iloc[:, -1].values\n",
    "# 2. Split the data set into a training set, a validation set, and a testing set.\n",
    "X_train, X_test, y_train, y_test = train_test_split(X, y, test_size=0.25, shuffle = True, random_state=13)\n",
    "#we should alwyas check the shape(the number of rows and columns of a given DataFrame)\n",
    "print('The training set shape:', X_train.shape, y_train.shape)\n",
    "print('The testing  set shape:', X_test.shape, y_test.shape)\n"
   ]
  },
  {
   "cell_type": "markdown",
   "id": "6dd04ba2",
   "metadata": {},
   "source": [
    "In the line `X_train, X_test, y_train, y_test = train_test_split(X, y, test_size=0.25, shuffle=True, random_state=13)`, we are performing the following operations:\n",
    "\n",
    "- `X` and `y` are the feature matrix and target variable.\n",
    "  \n",
    "- `test_size=0.25` indicates that 25% of the data will be used for testing, and the remaining 75% for training.\n",
    "\n",
    "- `shuffle=True` specifies that the data should be randomly shuffled before splitting.\n",
    "\n",
    "- `random_state=13` ensures that the same random split will be generated if the code is run again => reproducibility\n"
   ]
  },
  {
   "cell_type": "markdown",
   "id": "717eec46",
   "metadata": {},
   "source": [
    "### 1.3 Extracting the validation set"
   ]
  },
  {
   "cell_type": "code",
   "execution_count": 4,
   "id": "62ae6420",
   "metadata": {},
   "outputs": [
    {
     "name": "stdout",
     "output_type": "stream",
     "text": [
      "The training set shape: (5625, 7) (5625,)\n",
      "The testing  set shape: (1875, 7) (1875,)\n"
     ]
    }
   ],
   "source": [
    "# Step 3: Extract a validation set from the training set\n",
    "X_train_, X_val, y_train_, y_val = train_test_split(X_train, y_train, test_size=0.25, random_state=42, shuffle = True)\n",
    "X_train_.shape, X_val.shape, y_train_.shape, y_val.shape\n",
    "print('The training set shape:', X_train_.shape, y_train_.shape)\n",
    "print('The testing  set shape:', X_val.shape, y_val.shape)"
   ]
  },
  {
   "cell_type": "markdown",
   "id": "c97fed3a",
   "metadata": {},
   "source": [
    "### 1.4 Feature Scaling\n"
   ]
  },
  {
   "cell_type": "markdown",
   "id": "5edaff39",
   "metadata": {},
   "source": [
    "The dataset splitting process demonstrates the importance of checking the shape of the data partitions. Here's how we derived the shapes:\n",
    "\n",
    "- For the original split:\n",
    "  - `X_train.shape`: 7500 samples (75% of the original data = 10000 row * 75%) with 13 features.\n",
    "  - `X_test.shape`: 2500 samples (25% of the original data) with 13 features.\n",
    "  - `y_train.shape`: 7500 target values.\n",
    "  - `y_test.shape`: 2500 target values.\n",
    "\n",
    "- For the validation set, derived from the training set:\n",
    "  - `X_train_.shape`: 5625 samples (75% of the training data = (10000 * 75% ) *75% ) with 13 features.\n",
    "  - `X_val.shape`: 1875 samples (25% of the training data) with 13 features.\n",
    "  - `y_train_.shape`: 5625 target values.\n",
    "  - `y_val.shape`: 1875 target values.\n"
   ]
  },
  {
   "cell_type": "markdown",
   "id": "63968400",
   "metadata": {},
   "source": [
    "**Why We Need to Scale Features?**\n",
    "In many datasets, including the cancer dataset, features can have different units or scales. For instance, in the cancer dataset, we might have features like \"mean radius\" (measured in millimeters) and \"mean smoothness\" (a dimensionless quantity). => Scaling makes the model more robust and helps it converge faster.\n",
    "\n",
    "**How We Scale Features?**\n",
    "We typically use the StandardScaler, which scales features to have a mean of 0 and a standard deviation of 1."
   ]
  },
  {
   "cell_type": "code",
   "execution_count": 5,
   "id": "39c1dc07",
   "metadata": {},
   "outputs": [],
   "source": [
    "# 3. Scale the features using the standard scaler.\n",
    "scaler = StandardScaler()\n",
    "scaler.fit(X_train_)\n",
    "X_train_scaled = scaler.transform(X_train_)\n",
    "X_val_scaled = scaler.transform(X_val)\n",
    "X_test_scaled = scaler.transform(X_test)"
   ]
  },
  {
   "cell_type": "markdown",
   "id": "0b5d7008",
   "metadata": {},
   "source": [
    "## 2. Implementing and Training the Perceptron\n",
    "\n",
    "We define the components of the Perceptron model:\n",
    "\n",
    "- Sigmoid Activation Function\n",
    "- Perceptron Function\n",
    "- Binary Cross-Entropy Loss Function"
   ]
  },
  {
   "cell_type": "markdown",
   "id": "9d7e4ce3",
   "metadata": {},
   "source": [
    "The sigmoid AF is a commonly used in the context of binary classification tasks. It transforms any real-valued number into a range between 0 and 1, making it suitable for modeling probabilities or binary outcomes. The function is defined as follows:\n",
    "\n",
    "Sigmoid Function:\n",
    "σ(z) = 1 / (1 + e^(-z))\n"
   ]
  },
  {
   "cell_type": "code",
   "execution_count": 6,
   "id": "b4d1c679",
   "metadata": {},
   "outputs": [],
   "source": [
    "# Sigmoid AF\n",
    "def sigmoid(z):\n",
    "    return 1 / (1 + np.exp(-z))\n"
   ]
  },
  {
   "cell_type": "code",
   "execution_count": 7,
   "id": "bb117b9a",
   "metadata": {},
   "outputs": [],
   "source": [
    "# sigmoid derivative\n",
    "def sigmoid_prime(z):\n",
    "    return sigmoid(z) * (1 - sigmoid(z))\n"
   ]
  },
  {
   "cell_type": "code",
   "execution_count": 8,
   "id": "e916286e",
   "metadata": {},
   "outputs": [
    {
     "data": {
      "image/png": "[encoded data removed]",
      "text/plain": [
       "<Figure size 1200x500 with 2 Axes>"
      ]
     },
     "metadata": {},
     "output_type": "display_data"
    }
   ],
   "source": [
    "# Create an array of values for z\n",
    "z = np.linspace(-7, 7, 200)  # Values from -7 to 7\n",
    "\n",
    "# Calculate sigmoid and sigmoid prime values\n",
    "s = sigmoid(z)\n",
    "s_prime = sigmoid_prime(z)\n",
    "\n",
    "# Create subplots with two columns\n",
    "fig, (ax1, ax2) = plt.subplots(1, 2, figsize=(12, 5))\n",
    "\n",
    "# Plot the sigmoid function\n",
    "ax1.plot(z, s, label=\"Sigmoid Function\", color=\"b\")\n",
    "ax1.set_xlabel(\"z\")\n",
    "ax1.set_ylabel(\"σ(z)\")\n",
    "ax1.set_title(\"Sigmoid Activation Function\")\n",
    "ax1.grid()\n",
    "ax1.axhline(0.5, color='r', linestyle='--', label=\"Decision Threshold (0.5)\")\n",
    "ax1.legend()\n",
    "\n",
    "# Plot the sigmoid prime function\n",
    "ax2.plot(z, s_prime, label=\"Sigmoid Prime\", color=\"g\")\n",
    "ax2.set_xlabel(\"z\")\n",
    "ax2.set_ylabel(\"σ'(z)\")\n",
    "ax2.set_title(\"Sigmoid Derivative\")\n",
    "ax2.grid()\n",
    "ax2.legend()\n",
    "\n",
    "plt.show()"
   ]
  },
  {
   "cell_type": "markdown",
   "id": "e430197e",
   "metadata": {},
   "source": [
    "### 2.1 Defining the perceptron model"
   ]
  },
  {
   "cell_type": "code",
   "execution_count": 9,
   "id": "8f253ecd",
   "metadata": {},
   "outputs": [],
   "source": [
    "# The Perceptron model\n",
    "def perceptron(X, W, b):\n",
    "    return sigmoid(np.dot(X, W) + b).flatten()"
   ]
  },
  {
   "cell_type": "markdown",
   "id": "a44bd84e",
   "metadata": {},
   "source": [
    "−(ylog(pred)+(1−y)log(1−pred))"
   ]
  },
  {
   "cell_type": "markdown",
   "id": "245dc983",
   "metadata": {},
   "source": [
    "The function `binary_cross_entropy(y, y_pred)` computes the binary cross-entropy loss. This loss function is commonly used in binary classification tasks.\n",
    "\n",
    "\n",
    "**Explanation:**\n",
    "- When `y` is 1, the loss component is `-log(y_pred)`. This term measures how well the model's predicted probability aligns with the actual positive instance.\n",
    "- When `y` is 0, the loss component is `-log(1 - y_pred)`. This term evaluates the model's prediction for negative instances.\n",
    "\n",
    "The negative sign is used to convert the problem into a minimization task, where the goal is to minimize the cross-entropy loss. In other words, the loss penalizes models that are highly confident but wrong (i.e., predicting close to 1 when `y` is 0 or predicting close to 0 when `y` is 1)."
   ]
  },
  {
   "cell_type": "code",
   "execution_count": 10,
   "id": "5e74027a",
   "metadata": {},
   "outputs": [],
   "source": [
    "def binary_cross_entropy(y, y_pred):\n",
    "    return -np.mean(y * np.log(y_pred) + (1 - y) * np.log(1 - y_pred))"
   ]
  },
  {
   "cell_type": "markdown",
   "id": "2b67eeea",
   "metadata": {},
   "source": [
    "### 2.3 Define gradients"
   ]
  },
  {
   "cell_type": "markdown",
   "id": "211c5f35",
   "metadata": {},
   "source": [
    "#### Derivation of Gradients for Binary Cross-Entropy Loss\n",
    "\n",
    "We want to derive the gradients for the binary cross-entropy loss with respect to the bias term (gradient_b) and the weights (gradient_W). The binary cross-entropy loss is given by:\n",
    "\n",
    "L(W) = -[1/N * Σ (y * log(y_pred) + (1 - y) * log(1 - y_pred))]\n",
    "\n",
    "Where:\n",
    "- N is the number of data points.\n",
    "- y is the true binary label (0 or 1).\n",
    "- y_pred is the predicted value.\n",
    "\n",
    "**Derivation for gradient_b:**\n",
    "\n",
    "\n",
    "1. Start with the binary cross-entropy loss:\n",
    "   L(W) = -[1/N * Σ (y * log(y_pred) + (1 - y) * log(1 - y_pred))]\n",
    "\n",
    "2. Take the derivative with respect to the bias (b):\n",
    "   ∂L/∂b = -[1/N * Σ (y_pred - y)]\n",
    "\n",
    "3. Simplify and divide by N to get the gradient for the bias:\n",
    "   gradient_b = (1/N) * Σ (y_pred - y)\n",
    "\n",
    "**Derivation for gradient_W:**\n",
    "\n",
    "1. Start with the binary cross-entropy loss:\n",
    "   L(W) = -[1/N * Σ (y * log(y_pred) + (1 - y) * log(1 - y_pred))]\n",
    "\n",
    "2. Take the derivative with respect to the weights (W):\n",
    "   ∂L/∂W = -[1/N * Σ (X^T * (y_pred - y))]\n",
    "\n",
    "3. Simplify and divide by N to get the gradient for the weights:\n",
    "   gradient_W = (1/N) * X^T * (y_pred - y)\n",
    "\n"
   ]
  },
  {
   "cell_type": "code",
   "execution_count": 11,
   "id": "36b7b586",
   "metadata": {},
   "outputs": [],
   "source": [
    "\n",
    "def gradient_b(y_pred, y):\n",
    "    N= y.shape[0] # y.len()\n",
    "    y = y.shape[0]\n",
    "    return (1. /N) * np.sum(y_pred - y)  # * 1\n",
    "\n",
    "def gradient_W(y_pred, y, X):\n",
    "    N= X.shape[0] # X.len()\n",
    "    Y = (y_pred - y).reshape((y.shape[0], 1)) #to make sure it's one column and N lines\n",
    "    return (1. / N)* np.dot(np.transpose(X), Y)"
   ]
  },
  {
   "cell_type": "markdown",
   "id": "4fcacfc8",
   "metadata": {},
   "source": [
    "### 2.4 Train the Perceptron"
   ]
  },
  {
   "cell_type": "code",
   "execution_count": 12,
   "id": "9c28e8b7",
   "metadata": {},
   "outputs": [],
   "source": [
    "# Initialize parameters\n",
    "b= np.random.normal(0,1)\n",
    "W = np.random.normal(0,1 ,size = (X_train_scaled.shape[1],1))"
   ]
  },
  {
   "cell_type": "markdown",
   "id": "775bf7e4",
   "metadata": {},
   "source": [
    " `X_train_scaled.shape[1]` This ensures that the weight matrix `W` has the correct shape to match the input features => determines the number of columns in the weight matrix"
   ]
  },
  {
   "cell_type": "code",
   "execution_count": 13,
   "id": "4aa1e2a8",
   "metadata": {},
   "outputs": [],
   "source": [
    "# Hyperparameters\n",
    "lr = 0.00000001\n",
    "epochs = 10000\n",
    "train_loss_list = []\n",
    "val_loss_list = []"
   ]
  },
  {
   "cell_type": "code",
   "execution_count": 14,
   "id": "38bdb80b",
   "metadata": {},
   "outputs": [
    {
     "data": {
      "text/plain": [
       "array([0.57205174, 0.77149676, 0.22317481, ..., 0.59261044, 0.73645162,\n",
       "       0.622614  ])"
      ]
     },
     "execution_count": 14,
     "metadata": {},
     "output_type": "execute_result"
    }
   ],
   "source": [
    "# Forward pass --->\n",
    "y_pred = perceptron(X_train_scaled,W,b)\n",
    "y_pred"
   ]
  },
  {
   "cell_type": "code",
   "execution_count": 15,
   "id": "40b8b5d9",
   "metadata": {},
   "outputs": [],
   "source": [
    "# Compute gradients\n",
    "grad_b = gradient_b(y_pred, y_train_)\n",
    "grad_W = gradient_W(y_pred, y_train_, X_train_scaled)"
   ]
  },
  {
   "cell_type": "code",
   "execution_count": 16,
   "id": "d25ccb71",
   "metadata": {
    "scrolled": true
   },
   "outputs": [
    {
     "name": "stdout",
     "output_type": "stream",
     "text": [
      "Epoch0 - Training Loss: 0.8137271059846815 - Validation Loss: 0.7940264635246032\n",
      "Epoch1000 - Training Loss: 0.8086226710849841 - Validation Loss: 0.7885192368321912\n",
      "Epoch2000 - Training Loss: 0.8040818439760036 - Validation Loss: 0.7835796718807397\n",
      "Epoch3000 - Training Loss: 0.8001062359675866 - Validation Loss: 0.7792096506160623\n",
      "Epoch4000 - Training Loss: 0.7966970595920148 - Validation Loss: 0.7754106476209884\n",
      "Epoch5000 - Training Loss: 0.7938551328083934 - Validation Loss: 0.7721837328882871\n",
      "Epoch6000 - Training Loss: 0.791580884050047 - Validation Loss: 0.7695295754801798\n",
      "Epoch7000 - Training Loss: 0.7898743580400148 - Validation Loss: 0.7674484480097477\n",
      "Epoch8000 - Training Loss: 0.7887352222994439 - Validation Loss: 0.7659402318785677\n",
      "Epoch9000 - Training Loss: 0.7881627742743947 - Validation Loss: 0.7650044232049081\n"
     ]
    }
   ],
   "source": [
    "# training\n",
    "for i in range(epochs):\n",
    "    y_pred = perceptron(X_train_scaled,W,b)\n",
    "    grad_b = gradient_b(y_pred, y_train_)\n",
    "    grad_W = gradient_W(y_pred, y_train_ , X_train_scaled)\n",
    "    # update parameters\n",
    "    b -= lr * grad_b\n",
    "    W -= lr * grad_W\n",
    "    # Compute and record training loss\n",
    "    train_loss = binary_cross_entropy(y_train_.flatten(), y_pred)\n",
    "    train_loss_list.append(train_loss)\n",
    "    \n",
    "    #Forward pass for the validation set\n",
    "    y_pred_val = perceptron(X_val_scaled, W, b)\n",
    "\n",
    "    # Compute and record validation loss\n",
    "    val_loss = binary_cross_entropy(y_val, y_pred_val.flatten())\n",
    "    val_loss_list.append(val_loss)\n",
    "    if i % 1000 == 0:\n",
    "        print(f\"Epoch{i} - Training Loss: {train_loss} - Validation Loss: {val_loss}\")\n",
    "\n",
    "    \n"
   ]
  },
  {
   "cell_type": "markdown",
   "id": "4d72dba8",
   "metadata": {},
   "source": [
    "### 2.5 Visualization of the loss"
   ]
  },
  {
   "cell_type": "code",
   "execution_count": 17,
   "id": "7da257c0",
   "metadata": {},
   "outputs": [
    {
     "data": {
      "image/png": "[encoded data removed]",
      "text/plain": [
       "<Figure size 640x480 with 1 Axes>"
      ]
     },
     "metadata": {},
     "output_type": "display_data"
    }
   ],
   "source": [
    "plt.figure()\n",
    "plt.plot(np.arange(epochs), train_loss_list)\n",
    "plt.plot(np.arange(epochs), val_loss_list)\n",
    "plt.title('Training and Validation Losses Decay')\n",
    "plt.xlabel('Epoch')\n",
    "plt.ylabel('Loss')\n",
    "plt.legend(['Training', 'Validation'])\n",
    "plt.show()"
   ]
  },
  {
   "cell_type": "markdown",
   "id": "643849a8",
   "metadata": {},
   "source": [
    "# 3. Model Evaluation"
   ]
  },
  {
   "cell_type": "markdown",
   "id": "9928aba5",
   "metadata": {},
   "source": [
    "1. Compute the predictions on the testing set using the trained classifier.\n",
    "2. Compute the accuracy score of the predictions, then compute the precision, the recall and the F1 scores.\n",
    "How well is our model performing?"
   ]
  },
  {
   "cell_type": "code",
   "execution_count": 18,
   "id": "6b2a6e14",
   "metadata": {},
   "outputs": [],
   "source": [
    "from sklearn.metrics import accuracy_score, precision_score, recall_score, f1_score\n",
    "\n",
    "# Compute predictions on the testing set\n",
    "y_pred= perceptron(X_test_scaled, W, b)\n",
    "# Assuming y_pred contains your model's continuous predictions\n",
    "threshold = 0.5\n",
    "y_pred_binary = (y_pred > threshold).astype(int)\n",
    "\n"
   ]
  },
  {
   "cell_type": "code",
   "execution_count": 19,
   "id": "0e331dab",
   "metadata": {},
   "outputs": [
    {
     "name": "stdout",
     "output_type": "stream",
     "text": [
      "Accuracy: 0.618\n",
      "Precision: 0.6126126126126126\n",
      "Recall: 0.650199203187251\n",
      "F1 Score: 0.6308465403942791\n"
     ]
    }
   ],
   "source": [
    "accuracy = accuracy_score(y_test, y_pred_binary)\n",
    "precision = precision_score(y_test, y_pred_binary)\n",
    "recall = recall_score(y_test, y_pred_binary)\n",
    "f1 = f1_score(y_test, y_pred_binary)\n",
    "\n",
    "print(f\"Accuracy: {accuracy}\")\n",
    "print(f\"Precision: {precision}\")\n",
    "print(f\"Recall: {recall}\")\n",
    "print(f\"F1 Score: {f1}\")\n"
   ]
  },
  {
   "cell_type": "markdown",
   "id": "a4f5eb11",
   "metadata": {},
   "source": [
    "Our model is showing moderate performance. It has an accuracy, precision, recall, and F1 score above 0.5, indicating that it can make predictions better than 'random chance'. However, there is still room for improvement."
   ]
  }
 ],
 "metadata": {
  "kernelspec": {
   "display_name": "Python 3 (ipykernel)",
   "language": "python",
   "name": "python3"
  },
  "language_info": {
   "codemirror_mode": {
    "name": "ipython",
    "version": 3
   },
   "file_extension": ".py",
   "mimetype": "text/x-python",
   "name": "python",
   "nbconvert_exporter": "python",
   "pygments_lexer": "ipython3",
   "version": "3.9.13"
  }
 },
 "nbformat": 4,
 "nbformat_minor": 5
}
